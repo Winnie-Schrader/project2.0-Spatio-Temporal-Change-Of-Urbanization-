{
 "cells": [
  {
   "cell_type": "code",
   "execution_count": null,
   "id": "fa0cf7bc",
   "metadata": {},
   "outputs": [],
   "source": []
  },
  {
   "cell_type": "code",
   "execution_count": 8,
   "id": "3cfd3997",
   "metadata": {},
   "outputs": [
    {
     "name": "stdout",
     "output_type": "stream",
     "text": [
      "ndbi    28070\n",
      "ndvi     1432\n",
      "ndwi        0\n",
      "dtype: int64\n",
      "ndbi    0\n",
      "ndvi    0\n",
      "ndwi    0\n",
      "dtype: int64\n"
     ]
    }
   ],
   "source": [
    "import pandas as pd\n",
    "import numpy as np\n",
    "from sklearn.preprocessing import StandardScaler\n",
    "from sklearn.impute import SimpleImputer\n",
    "from sklearn.model_selection import train_test_split\n",
    "\n",
    "# Load the CSV file into a pandas DataFrame\n",
    "df = pd.read_csv('2022_win.csv')\n",
    "\n",
    "# Check for NaN or Infinity values\n",
    "print(df.isna().sum())\n",
    "print(np.isinf(df).sum())\n",
    "\n",
    "# Replace NaN values with a default value\n",
    "df = df.fillna(0)\n",
    "\n",
    "# Replace Infinity values with a large value\n",
    "df = df.replace([np.inf, -np.inf], np.finfo('float64').max)\n",
    "\n",
    "# Scale the data using StandardScaler\n",
    "scaler = StandardScaler()\n",
    "scaled_df = scaler.fit_transform(df)\n",
    "\n",
    "# Impute missing values using mean imputation\n",
    "imputer = SimpleImputer(missing_values=np.nan, strategy='mean')\n",
    "imputed_df = imputer.fit_transform(scaled_df)\n",
    "\n",
    "# Split the data into training and testing sets\n",
    "X_train, X_test = train_test_split(imputed_df, test_size=0.2, random_state=42)\n"
   ]
  },
  {
   "cell_type": "code",
   "execution_count": null,
   "id": "52e63899",
   "metadata": {},
   "outputs": [],
   "source": []
  },
  {
   "cell_type": "code",
   "execution_count": 9,
   "id": "761ef319",
   "metadata": {},
   "outputs": [
    {
     "data": {
      "text/html": [
       "<div>\n",
       "<style scoped>\n",
       "    .dataframe tbody tr th:only-of-type {\n",
       "        vertical-align: middle;\n",
       "    }\n",
       "\n",
       "    .dataframe tbody tr th {\n",
       "        vertical-align: top;\n",
       "    }\n",
       "\n",
       "    .dataframe thead th {\n",
       "        text-align: right;\n",
       "    }\n",
       "</style>\n",
       "<table border=\"1\" class=\"dataframe\">\n",
       "  <thead>\n",
       "    <tr style=\"text-align: right;\">\n",
       "      <th></th>\n",
       "      <th>ndbi</th>\n",
       "      <th>ndvi</th>\n",
       "      <th>ndwi</th>\n",
       "    </tr>\n",
       "  </thead>\n",
       "  <tbody>\n",
       "    <tr>\n",
       "      <th>0</th>\n",
       "      <td>0.00036</td>\n",
       "      <td>0.134518</td>\n",
       "      <td>0.118114</td>\n",
       "    </tr>\n",
       "    <tr>\n",
       "      <th>1</th>\n",
       "      <td>0.00036</td>\n",
       "      <td>0.133548</td>\n",
       "      <td>0.122740</td>\n",
       "    </tr>\n",
       "    <tr>\n",
       "      <th>2</th>\n",
       "      <td>0.00036</td>\n",
       "      <td>0.098165</td>\n",
       "      <td>0.115141</td>\n",
       "    </tr>\n",
       "    <tr>\n",
       "      <th>3</th>\n",
       "      <td>0.00036</td>\n",
       "      <td>0.124103</td>\n",
       "      <td>0.104998</td>\n",
       "    </tr>\n",
       "    <tr>\n",
       "      <th>4</th>\n",
       "      <td>0.00036</td>\n",
       "      <td>0.099728</td>\n",
       "      <td>0.101200</td>\n",
       "    </tr>\n",
       "    <tr>\n",
       "      <th>...</th>\n",
       "      <td>...</td>\n",
       "      <td>...</td>\n",
       "      <td>...</td>\n",
       "    </tr>\n",
       "    <tr>\n",
       "      <th>28066</th>\n",
       "      <td>0.00036</td>\n",
       "      <td>0.135081</td>\n",
       "      <td>0.109371</td>\n",
       "    </tr>\n",
       "    <tr>\n",
       "      <th>28067</th>\n",
       "      <td>0.00036</td>\n",
       "      <td>0.135081</td>\n",
       "      <td>0.116153</td>\n",
       "    </tr>\n",
       "    <tr>\n",
       "      <th>28068</th>\n",
       "      <td>0.00036</td>\n",
       "      <td>0.135081</td>\n",
       "      <td>0.122476</td>\n",
       "    </tr>\n",
       "    <tr>\n",
       "      <th>28069</th>\n",
       "      <td>0.00036</td>\n",
       "      <td>0.135081</td>\n",
       "      <td>0.119258</td>\n",
       "    </tr>\n",
       "    <tr>\n",
       "      <th>28070</th>\n",
       "      <td>0.00036</td>\n",
       "      <td>0.135081</td>\n",
       "      <td>0.101409</td>\n",
       "    </tr>\n",
       "  </tbody>\n",
       "</table>\n",
       "<p>28071 rows × 3 columns</p>\n",
       "</div>"
      ],
      "text/plain": [
       "          ndbi      ndvi      ndwi\n",
       "0      0.00036  0.134518  0.118114\n",
       "1      0.00036  0.133548  0.122740\n",
       "2      0.00036  0.098165  0.115141\n",
       "3      0.00036  0.124103  0.104998\n",
       "4      0.00036  0.099728  0.101200\n",
       "...        ...       ...       ...\n",
       "28066  0.00036  0.135081  0.109371\n",
       "28067  0.00036  0.135081  0.116153\n",
       "28068  0.00036  0.135081  0.122476\n",
       "28069  0.00036  0.135081  0.119258\n",
       "28070  0.00036  0.135081  0.101409\n",
       "\n",
       "[28071 rows x 3 columns]"
      ]
     },
     "execution_count": 9,
     "metadata": {},
     "output_type": "execute_result"
    }
   ],
   "source": [
    "import pandas as pd\n",
    "\n",
    "df = pd.read_csv('2022_win.csv')\n",
    "df.interpolate(inplace=False)"
   ]
  },
  {
   "cell_type": "code",
   "execution_count": null,
   "id": "465751b4",
   "metadata": {},
   "outputs": [],
   "source": []
  },
  {
   "cell_type": "code",
   "execution_count": 36,
   "id": "315e4b2b",
   "metadata": {},
   "outputs": [
    {
     "name": "stdout",
     "output_type": "stream",
     "text": [
      "ndbi    28070\n",
      "ndvi     1432\n",
      "ndwi        0\n",
      "dtype: int64\n",
      "ndbi    0\n",
      "ndvi    0\n",
      "ndwi    0\n",
      "dtype: int64\n",
      "[2 6 6 ... 4 4 4]\n"
     ]
    }
   ],
   "source": [
    "import pandas as pd\n",
    "import numpy as np\n",
    "from sklearn.preprocessing import StandardScaler\n",
    "from sklearn.impute import SimpleImputer\n",
    "from sklearn.cluster import KMeans\n",
    "import matplotlib.pyplot as plt\n",
    "\n",
    "# Load the CSV file into a pandas DataFrame\n",
    "df = pd.read_csv('2022_win.csv')\n",
    "\n",
    "# Check for NaN or Infinity values\n",
    "print(df.isna().sum())\n",
    "print(np.isinf(df).sum())\n",
    "\n",
    "# Replace NaN values with a default value\n",
    "df = df.fillna(0)\n",
    "\n",
    "# # Replace Infinity values with a large value\n",
    "# df = df.replace([np.inf, -np.inf], np.finfo('float64').max)\n",
    "\n",
    "# Scale the data using StandardScaler\n",
    "scaler = StandardScaler()\n",
    "scaled_df = scaler.fit_transform(df)\n",
    "\n",
    "# Impute missing values using mean imputation\n",
    "imputer = SimpleImputer(missing_values=np.nan, strategy='mean')\n",
    "imputed_df = imputer.fit_transform(scaled_df)\n",
    "\n",
    "# Apply k-means clustering to the data\n",
    "kmeans = KMeans(n_clusters=4, random_state=42)\n",
    "clusters = kmeans.fit_predict(imputed_df)\n",
    "\n",
    "# Print the cluster labels for each data point\n",
    "print(clusters)\n"
   ]
  },
  {
   "cell_type": "code",
   "execution_count": 28,
   "id": "f9f991c5",
   "metadata": {},
   "outputs": [
    {
     "data": {
      "text/plain": [
       "array([[ 1.67541040e+02,  7.97384145e-01,  9.74163378e-01],\n",
       "       [-5.96868685e-03,  7.72150354e-01,  1.20225482e+00],\n",
       "       [-5.96868685e-03, -1.48644708e-01,  8.27577990e-01],\n",
       "       ...,\n",
       "       [-5.96868685e-03, -2.70326681e+00,  1.18922238e+00],\n",
       "       [-5.96868685e-03, -2.70326681e+00,  1.03057670e+00],\n",
       "       [-5.96868685e-03, -2.70326681e+00,  1.50631715e-01]])"
      ]
     },
     "execution_count": 28,
     "metadata": {},
     "output_type": "execute_result"
    }
   ],
   "source": [
    "imputed_df "
   ]
  },
  {
   "cell_type": "code",
   "execution_count": 29,
   "id": "e073a440",
   "metadata": {},
   "outputs": [
    {
     "data": {
      "text/html": [
       "<div>\n",
       "<style scoped>\n",
       "    .dataframe tbody tr th:only-of-type {\n",
       "        vertical-align: middle;\n",
       "    }\n",
       "\n",
       "    .dataframe tbody tr th {\n",
       "        vertical-align: top;\n",
       "    }\n",
       "\n",
       "    .dataframe thead th {\n",
       "        text-align: right;\n",
       "    }\n",
       "</style>\n",
       "<table border=\"1\" class=\"dataframe\">\n",
       "  <thead>\n",
       "    <tr style=\"text-align: right;\">\n",
       "      <th></th>\n",
       "      <th>ndbi</th>\n",
       "      <th>ndvi</th>\n",
       "      <th>ndwi</th>\n",
       "    </tr>\n",
       "  </thead>\n",
       "  <tbody>\n",
       "    <tr>\n",
       "      <th>0</th>\n",
       "      <td>0.00036</td>\n",
       "      <td>0.134518</td>\n",
       "      <td>0.118114</td>\n",
       "    </tr>\n",
       "    <tr>\n",
       "      <th>1</th>\n",
       "      <td>0.00000</td>\n",
       "      <td>0.133548</td>\n",
       "      <td>0.122740</td>\n",
       "    </tr>\n",
       "    <tr>\n",
       "      <th>2</th>\n",
       "      <td>0.00000</td>\n",
       "      <td>0.098165</td>\n",
       "      <td>0.115141</td>\n",
       "    </tr>\n",
       "    <tr>\n",
       "      <th>3</th>\n",
       "      <td>0.00000</td>\n",
       "      <td>0.124103</td>\n",
       "      <td>0.104998</td>\n",
       "    </tr>\n",
       "    <tr>\n",
       "      <th>4</th>\n",
       "      <td>0.00000</td>\n",
       "      <td>0.099728</td>\n",
       "      <td>0.101200</td>\n",
       "    </tr>\n",
       "    <tr>\n",
       "      <th>...</th>\n",
       "      <td>...</td>\n",
       "      <td>...</td>\n",
       "      <td>...</td>\n",
       "    </tr>\n",
       "    <tr>\n",
       "      <th>28066</th>\n",
       "      <td>0.00000</td>\n",
       "      <td>0.000000</td>\n",
       "      <td>0.109371</td>\n",
       "    </tr>\n",
       "    <tr>\n",
       "      <th>28067</th>\n",
       "      <td>0.00000</td>\n",
       "      <td>0.000000</td>\n",
       "      <td>0.116153</td>\n",
       "    </tr>\n",
       "    <tr>\n",
       "      <th>28068</th>\n",
       "      <td>0.00000</td>\n",
       "      <td>0.000000</td>\n",
       "      <td>0.122476</td>\n",
       "    </tr>\n",
       "    <tr>\n",
       "      <th>28069</th>\n",
       "      <td>0.00000</td>\n",
       "      <td>0.000000</td>\n",
       "      <td>0.119258</td>\n",
       "    </tr>\n",
       "    <tr>\n",
       "      <th>28070</th>\n",
       "      <td>0.00000</td>\n",
       "      <td>0.000000</td>\n",
       "      <td>0.101409</td>\n",
       "    </tr>\n",
       "  </tbody>\n",
       "</table>\n",
       "<p>28071 rows × 3 columns</p>\n",
       "</div>"
      ],
      "text/plain": [
       "          ndbi      ndvi      ndwi\n",
       "0      0.00036  0.134518  0.118114\n",
       "1      0.00000  0.133548  0.122740\n",
       "2      0.00000  0.098165  0.115141\n",
       "3      0.00000  0.124103  0.104998\n",
       "4      0.00000  0.099728  0.101200\n",
       "...        ...       ...       ...\n",
       "28066  0.00000  0.000000  0.109371\n",
       "28067  0.00000  0.000000  0.116153\n",
       "28068  0.00000  0.000000  0.122476\n",
       "28069  0.00000  0.000000  0.119258\n",
       "28070  0.00000  0.000000  0.101409\n",
       "\n",
       "[28071 rows x 3 columns]"
      ]
     },
     "execution_count": 29,
     "metadata": {},
     "output_type": "execute_result"
    }
   ],
   "source": [
    "df"
   ]
  },
  {
   "cell_type": "code",
   "execution_count": 1,
   "id": "0ab89407",
   "metadata": {},
   "outputs": [],
   "source": [
    "# # Visualize the clusters\n",
    "# plt.scatter(imputed_df[:, 0], imputed_df[:, 1], c=clusters, cmap='viridis')\n",
    "# plt.show()"
   ]
  },
  {
   "cell_type": "code",
   "execution_count": 37,
   "id": "fab129b2",
   "metadata": {},
   "outputs": [
    {
     "data": {
      "image/png": "[encoded data removed]",
      "text/plain": [
       "<Figure size 432x288 with 1 Axes>"
      ]
     },
     "metadata": {
      "needs_background": "light"
     },
     "output_type": "display_data"
    }
   ],
   "source": [
    "# Visualize the clusters\n",
    "plt.scatter(imputed_df[:, 1], imputed_df[:, 2], c=clusters, cmap='viridis')\n",
    "plt.show()"
   ]
  },
  {
   "cell_type": "code",
   "execution_count": 2,
   "id": "c5da8fa9",
   "metadata": {},
   "outputs": [],
   "source": [
    "# # Visualize the clusters\n",
    "# plt.scatter(imputed_df[:, 2], imputed_df[:, 0], c=clusters, cmap='viridis')\n",
    "# plt.show()"
   ]
  },
  {
   "cell_type": "code",
   "execution_count": 3,
   "id": "48d561e1",
   "metadata": {},
   "outputs": [],
   "source": [
    "# # Visualize the clusters\n",
    "# plt.scatter(imputed_df[:, 1], imputed_df[:, 0], c=clusters, cmap='viridis')\n",
    "# plt.show()"
   ]
  },
  {
   "cell_type": "code",
   "execution_count": null,
   "id": "d2d4dd7b",
   "metadata": {},
   "outputs": [],
   "source": [
    "\n"
   ]
  },
  {
   "cell_type": "code",
   "execution_count": null,
   "id": "097b4100",
   "metadata": {},
   "outputs": [],
   "source": []
  },
  {
   "cell_type": "code",
   "execution_count": null,
   "id": "260b6c35",
   "metadata": {},
   "outputs": [],
   "source": []
  },
  {
   "cell_type": "code",
   "execution_count": null,
   "id": "fd4fe99a",
   "metadata": {},
   "outputs": [],
   "source": []
  },
  {
   "cell_type": "code",
   "execution_count": null,
   "id": "44240162",
   "metadata": {},
   "outputs": [],
   "source": []
  },
  {
   "cell_type": "code",
   "execution_count": null,
   "id": "58cedcb4",
   "metadata": {},
   "outputs": [],
   "source": []
  }
 ],
 "metadata": {
  "kernelspec": {
   "display_name": "Python 3 (ipykernel)",
   "language": "python",
   "name": "python3"
  },
  "language_info": {
   "codemirror_mode": {
    "name": "ipython",
    "version": 3
   },
   "file_extension": ".py",
   "mimetype": "text/x-python",
   "name": "python",
   "nbconvert_exporter": "python",
   "pygments_lexer": "ipython3",
   "version": "3.9.12"
  }
 },
 "nbformat": 4,
 "nbformat_minor": 5
}

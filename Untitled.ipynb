{
 "cells": [
  {
   "cell_type": "code",
   "execution_count": null,
   "id": "e28250df",
   "metadata": {},
   "outputs": [],
   "source": []
  },
  {
   "cell_type": "code",
   "execution_count": 20,
   "id": "85c1c8d8",
   "metadata": {},
   "outputs": [],
   "source": []
  },
  {
   "cell_type": "code",
   "execution_count": null,
   "id": "5e203edc",
   "metadata": {},
   "outputs": [],
   "source": [
    "\n"
   ]
  },
  {
   "cell_type": "code",
   "execution_count": null,
   "id": "e77f1d3c",
   "metadata": {},
   "outputs": [],
   "source": []
  },
  {
   "cell_type": "code",
   "execution_count": 25,
   "id": "aece31e6",
   "metadata": {},
   "outputs": [
    {
     "name": "stdout",
     "output_type": "stream",
     "text": [
      "Defaulting to user installation because normal site-packages is not writeable\n",
      "Requirement already satisfied: rasterio in c:\\users\\abhisek\\appdata\\roaming\\python\\python39\\site-packages (1.3.4)\n",
      "Requirement already satisfied: snuggs>=1.4.1 in c:\\users\\abhisek\\appdata\\roaming\\python\\python39\\site-packages (from rasterio) (1.4.7)\n",
      "Requirement already satisfied: numpy>=1.18 in c:\\programdata\\anaconda3\\lib\\site-packages (from rasterio) (1.21.5)\n",
      "Requirement already satisfied: attrs in c:\\programdata\\anaconda3\\lib\\site-packages (from rasterio) (21.4.0)\n",
      "Requirement already satisfied: certifi in c:\\programdata\\anaconda3\\lib\\site-packages (from rasterio) (2021.10.8)\n",
      "Requirement already satisfied: click>=4.0 in c:\\programdata\\anaconda3\\lib\\site-packages (from rasterio) (8.0.4)\n",
      "Requirement already satisfied: affine in c:\\users\\abhisek\\appdata\\roaming\\python\\python39\\site-packages (from rasterio) (2.3.1)\n",
      "Requirement already satisfied: setuptools in c:\\programdata\\anaconda3\\lib\\site-packages (from rasterio) (61.2.0)\n",
      "Requirement already satisfied: click-plugins in c:\\users\\abhisek\\appdata\\roaming\\python\\python39\\site-packages (from rasterio) (1.1.1)\n",
      "Requirement already satisfied: cligj>=0.5 in c:\\users\\abhisek\\appdata\\roaming\\python\\python39\\site-packages (from rasterio) (0.7.2)\n",
      "Requirement already satisfied: colorama in c:\\programdata\\anaconda3\\lib\\site-packages (from click>=4.0->rasterio) (0.4.4)\n",
      "Requirement already satisfied: pyparsing>=2.1.6 in c:\\programdata\\anaconda3\\lib\\site-packages (from snuggs>=1.4.1->rasterio) (3.0.4)\n"
     ]
    }
   ],
   "source": [
    "!pip install rasterio"
   ]
  },
  {
   "cell_type": "code",
   "execution_count": null,
   "id": "1051762f",
   "metadata": {},
   "outputs": [],
   "source": []
  },
  {
   "cell_type": "code",
   "execution_count": null,
   "id": "2f3744b5",
   "metadata": {},
   "outputs": [],
   "source": [
    "\n"
   ]
  },
  {
   "cell_type": "code",
   "execution_count": null,
   "id": "2a37027a",
   "metadata": {},
   "outputs": [],
   "source": []
  },
  {
   "cell_type": "code",
   "execution_count": null,
   "id": "9fa82816",
   "metadata": {},
   "outputs": [],
   "source": [
    "\n"
   ]
  },
  {
   "cell_type": "code",
   "execution_count": null,
   "id": "a65b249b",
   "metadata": {},
   "outputs": [],
   "source": []
  },
  {
   "cell_type": "code",
   "execution_count": null,
   "id": "5ee174be",
   "metadata": {},
   "outputs": [],
   "source": []
  },
  {
   "cell_type": "code",
   "execution_count": null,
   "id": "c59b31b6",
   "metadata": {},
   "outputs": [],
   "source": []
  },
  {
   "cell_type": "code",
   "execution_count": null,
   "id": "54d180c9",
   "metadata": {},
   "outputs": [],
   "source": []
  },
  {
   "cell_type": "code",
   "execution_count": null,
   "id": "ccb90553",
   "metadata": {},
   "outputs": [],
   "source": []
  },
  {
   "cell_type": "code",
   "execution_count": null,
   "id": "d6d4fb72",
   "metadata": {},
   "outputs": [],
   "source": []
  },
  {
   "cell_type": "code",
   "execution_count": null,
   "id": "6898f51f",
   "metadata": {},
   "outputs": [],
   "source": []
  },
  {
   "cell_type": "code",
   "execution_count": null,
   "id": "dc9f9442",
   "metadata": {},
   "outputs": [],
   "source": []
  },
  {
   "cell_type": "code",
   "execution_count": null,
   "id": "777b250f",
   "metadata": {},
   "outputs": [],
   "source": []
  },
  {
   "cell_type": "code",
   "execution_count": 14,
   "id": "64ad7144",
   "metadata": {},
   "outputs": [
    {
     "data": {
      "text/plain": [
       "ImageView object:\n",
       "  Display bands       :  [0, 3, 6]\n",
       "  Interpolation       :  <default>\n",
       "  RGB data limits     :\n",
       "    R: [0.0, 12909.0]\n",
       "    G: [0.0, 16260.0]\n",
       "    B: [0.0, 21649.0]"
      ]
     },
     "execution_count": 14,
     "metadata": {},
     "output_type": "execute_result"
    },
    {
     "data": {
      "image/png": "[encoded data removed]",
      "text/plain": [
       "<Figure size 432x288 with 1 Axes>"
      ]
     },
     "metadata": {
      "needs_background": "light"
     },
     "output_type": "display_data"
    }
   ],
   "source": [
    "import spectral\n",
    "from spectral import io\n",
    "import matplotlib.pyplot as plt\n",
    "import numpy as np\n",
    "from PIL import Image\n",
    "import os\n",
    "\n",
    "# Load the image\n",
    "img = io.envi.open('2022_summer_apply_mask.hdr')\n",
    "img\n",
    "\n",
    "\n",
    "# Customize the display with additional parameters\n",
    "spectral.imshow(img, cmap='gray', title='HDR Image')\n"
   ]
  },
  {
   "cell_type": "code",
   "execution_count": 45,
   "id": "95e6eee1",
   "metadata": {},
   "outputs": [],
   "source": [
    "\n",
    "\n",
    "\n",
    "# # Extract the bands\n",
    "# band3 = img[:, :, 2]\n",
    "# band4 = img[:, :, 3]\n",
    "# band5 = img[:, :, 4]\n",
    "\n",
    "\n",
    "nir_band = img[:, :, 5] #5th\n",
    "red_band = img[:, :, 3] #3rd\n",
    "swir_band = img[:, :,6] #6th\n",
    "\n",
    "\n",
    "# Compute NDVI, handling division by zero\n",
    "denominator = nir_band + red_band\n",
    "ndvi_data = np.zeros_like(denominator)\n",
    "mask = denominator != 0\n",
    "ndvi_data[mask] = (nir_band[mask] - red_band[mask]) / denominator[mask]\n",
    "ndvi_data = np.nan_to_num(ndvi_data)\n",
    "\n",
    "# Compute NDWI, handling division by zero\n",
    "denominator = nir_band + swir_band\n",
    "ndwi_data = np.zeros_like(denominator)\n",
    "mask = denominator != 0\n",
    "ndwi_data[mask] = (nir_band[mask] - swir_band[mask]) / denominator[mask]\n",
    "ndwi_data = np.nan_to_num(ndwi_data)\n",
    "\n",
    "# Compute NDBI, handling division by zero\n",
    "denominator = swir_band + nir_band\n",
    "ndbi_data = np.zeros_like(denominator)\n",
    "mask = denominator != 0\n",
    "ndbi_data[mask] = (swir_band[mask] - nir_band[mask]) / denominator[mask]\n",
    "ndbi_data = np.nan_to_num(ndbi_data)\n",
    "\n",
    "\n"
   ]
  },
  {
   "cell_type": "code",
   "execution_count": 46,
   "id": "8f4e1e94",
   "metadata": {},
   "outputs": [
    {
     "name": "stdout",
     "output_type": "stream",
     "text": [
      "0\n",
      "0\n",
      "0\n"
     ]
    }
   ],
   "source": [
    "print(np.isnan(ndvi_data).sum())\n",
    "print(np.isnan(ndwi_data).sum())\n",
    "print(np.isnan(ndbi_data).sum())"
   ]
  },
  {
   "cell_type": "code",
   "execution_count": 47,
   "id": "20f665b6",
   "metadata": {},
   "outputs": [
    {
     "name": "stdout",
     "output_type": "stream",
     "text": [
      "Number of non-zero values in NDVI: 58378445\n",
      "Number of non-zero values in NDWI: 58378481\n",
      "Number of non-zero values in NDBI: 58378481\n"
     ]
    }
   ],
   "source": [
    "import numpy as np\n",
    "ndvi_count = np.count_nonzero(ndvi)\n",
    "ndwi_count = np.count_nonzero(ndwi)\n",
    "ndbi_count = np.count_nonzero(ndbi)\n",
    "print('Number of non-zero values in NDVI:', ndvi_count)\n",
    "print('Number of non-zero values in NDWI:', ndwi_count)\n",
    "print('Number of non-zero values in NDBI:', ndbi_count)"
   ]
  },
  {
   "cell_type": "code",
   "execution_count": 40,
   "id": "72d897ef",
   "metadata": {},
   "outputs": [
    {
     "data": {
      "image/png": "[encoded data removed]",
      "text/plain": [
       "<Figure size 432x288 with 1 Axes>"
      ]
     },
     "metadata": {
      "needs_background": "light"
     },
     "output_type": "display_data"
    },
    {
     "data": {
      "text/plain": [
       "<Figure size 7200x432 with 0 Axes>"
      ]
     },
     "metadata": {},
     "output_type": "display_data"
    }
   ],
   "source": [
    "plt.imshow(ndbi, cmap=\"gray\")\n",
    "plt.axis()\n",
    "plt.figure(figsize=(100, 6))\n",
    "plt.show()\n"
   ]
  },
  {
   "cell_type": "code",
   "execution_count": 41,
   "id": "729dc16c",
   "metadata": {},
   "outputs": [
    {
     "data": {
      "image/png": "[encoded data removed]",
      "text/plain": [
       "<Figure size 432x288 with 1 Axes>"
      ]
     },
     "metadata": {
      "needs_background": "light"
     },
     "output_type": "display_data"
    }
   ],
   "source": [
    "plt.imshow(ndwi, cmap=\"gray\")\n",
    "plt.axis()\n",
    "plt.show()\n"
   ]
  },
  {
   "cell_type": "code",
   "execution_count": 42,
   "id": "ce06882b",
   "metadata": {},
   "outputs": [
    {
     "data": {
      "image/png": "[encoded data removed]",
      "text/plain": [
       "<Figure size 432x288 with 1 Axes>"
      ]
     },
     "metadata": {
      "needs_background": "light"
     },
     "output_type": "display_data"
    }
   ],
   "source": [
    "plt.imshow(ndvi)\n",
    "plt.axis()\n",
    "plt.show()"
   ]
  },
  {
   "cell_type": "code",
   "execution_count": null,
   "id": "b65763c2",
   "metadata": {},
   "outputs": [],
   "source": []
  },
  {
   "cell_type": "code",
   "execution_count": null,
   "id": "6debbd90",
   "metadata": {},
   "outputs": [],
   "source": [
    "\n",
    "\n"
   ]
  },
  {
   "cell_type": "code",
   "execution_count": null,
   "id": "99419097",
   "metadata": {},
   "outputs": [],
   "source": []
  },
  {
   "cell_type": "code",
   "execution_count": null,
   "id": "5eac9c7b",
   "metadata": {},
   "outputs": [],
   "source": []
  },
  {
   "cell_type": "code",
   "execution_count": null,
   "id": "d8219906",
   "metadata": {},
   "outputs": [],
   "source": []
  },
  {
   "cell_type": "code",
   "execution_count": null,
   "id": "ccdb5386",
   "metadata": {
    "scrolled": true
   },
   "outputs": [],
   "source": []
  },
  {
   "cell_type": "code",
   "execution_count": null,
   "id": "9baa65ae",
   "metadata": {},
   "outputs": [],
   "source": [
    "\n"
   ]
  },
  {
   "cell_type": "code",
   "execution_count": 23,
   "id": "18bffc1e",
   "metadata": {},
   "outputs": [],
   "source": [
    "# import pandas as pd\n",
    "# # Convert the data to a Pandas DataFrame\n",
    "\n",
    "# df = pd.DataFrame({'NDBI': ndbi.ravel(),\n",
    "#                    'NDWI': ndwi.ravel(),\n",
    "#                    'NDVI': ndvi.ravel()})\n",
    "\n",
    "# # Write the DataFrame to a CSV file\n",
    "# df.to_csv('output.csv', index=False, encoding='utf-8')\n",
    "# print(df)\n",
    "\n"
   ]
  },
  {
   "cell_type": "code",
   "execution_count": 24,
   "id": "b6fcd397",
   "metadata": {},
   "outputs": [],
   "source": [
    "# df.sample(5)"
   ]
  },
  {
   "cell_type": "code",
   "execution_count": 25,
   "id": "dfcb5bf2",
   "metadata": {
    "scrolled": true
   },
   "outputs": [],
   "source": [
    "# df.info()"
   ]
  },
  {
   "cell_type": "code",
   "execution_count": 26,
   "id": "308d3112",
   "metadata": {},
   "outputs": [],
   "source": [
    "# df.describe()"
   ]
  },
  {
   "cell_type": "code",
   "execution_count": 28,
   "id": "808f980d",
   "metadata": {},
   "outputs": [],
   "source": [
    "# num_missing = df.isna().sum()\n",
    "\n",
    "# print(num_missing)"
   ]
  },
  {
   "cell_type": "code",
   "execution_count": 50,
   "id": "d6abafaf",
   "metadata": {},
   "outputs": [],
   "source": [
    "ndvi_data_2d = ndvi.reshape(-1, 1)\n",
    "ndwi_data_2d = ndwi.reshape(-1, 1)\n",
    "ndbi_data_2d = ndbi.reshape(-1, 1)\n",
    "\n",
    "\n",
    "np.savetxt('a1.csv', ndvi_data_2d, delimiter=',')\n",
    "# np.savetxt('ndwi.csv', ndwi_data_2d, delimiter=',')\n",
    "# np.savetxt('ndbi.csv', ndbi_data_2d, delimiter=',')"
   ]
  },
  {
   "cell_type": "code",
   "execution_count": 52,
   "id": "3a86fc45",
   "metadata": {},
   "outputs": [
    {
     "name": "stdout",
     "output_type": "stream",
     "text": [
      "ndvi_data contains non-zero values\n"
     ]
    }
   ],
   "source": [
    "\n",
    "import numpy as np\n",
    "\n",
    "# Assuming ndvi_data is the array you want to check\n",
    "if np.any(ndvi_data):\n",
    "    print(\"ndvi_data contains non-zero values\")\n",
    "else:\n",
    "    print(\"ndvi_data is empty\")"
   ]
  },
  {
   "cell_type": "code",
   "execution_count": null,
   "id": "044c176b",
   "metadata": {},
   "outputs": [],
   "source": [
    "\n"
   ]
  }
 ],
 "metadata": {
  "kernelspec": {
   "display_name": "Python 3 (ipykernel)",
   "language": "python",
   "name": "python3"
  },
  "language_info": {
   "codemirror_mode": {
    "name": "ipython",
    "version": 3
   },
   "file_extension": ".py",
   "mimetype": "text/x-python",
   "name": "python",
   "nbconvert_exporter": "python",
   "pygments_lexer": "ipython3",
   "version": "3.9.12"
  }
 },
 "nbformat": 4,
 "nbformat_minor": 5
}

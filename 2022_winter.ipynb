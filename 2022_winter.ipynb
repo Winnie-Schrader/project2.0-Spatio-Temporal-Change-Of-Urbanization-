{
 "cells": [
  {
   "cell_type": "code",
   "execution_count": 1,
   "id": "ce773204",
   "metadata": {},
   "outputs": [
    {
     "data": {
      "text/plain": [
       "ImageView object:\n",
       "  Display bands       :  [0, 3, 6]\n",
       "  Interpolation       :  <default>\n",
       "  RGB data limits     :\n",
       "    R: [0.0, 12566.0]\n",
       "    G: [0.0, 15059.0]\n",
       "    B: [0.0, 19627.0]"
      ]
     },
     "execution_count": 1,
     "metadata": {},
     "output_type": "execute_result"
    },
    {
     "data": {
      "image/png": "[encoded data removed]",
      "text/plain": [
       "<Figure size 432x288 with 1 Axes>"
      ]
     },
     "metadata": {
      "needs_background": "light"
     },
     "output_type": "display_data"
    }
   ],
   "source": [
    "import spectral\n",
    "from spectral import io\n",
    "import matplotlib.pyplot as plt\n",
    "import numpy as np\n",
    "from PIL import Image\n",
    "import os\n",
    "\n",
    "# Load the image\n",
    "img = io.envi.open('ApplyMask_2022.hdr')\n",
    "img\n",
    "\n",
    "\n",
    "# Customize the display with additional parameters\n",
    "spectral.imshow(img, cmap='gray', title='HDR Image')\n"
   ]
  },
  {
   "cell_type": "code",
   "execution_count": 2,
   "id": "df73febe",
   "metadata": {},
   "outputs": [],
   "source": [
    "\n",
    "\n",
    "\n",
    "# # Extract the bands\n",
    "# band3 = img[:, :, 2]\n",
    "# band4 = img[:, :, 3]\n",
    "# band5 = img[:, :, 4]\n",
    "\n",
    "\n",
    "nir_band = img[:, :, 5].astype(float) #5th\n",
    "red_band = img[:, :, 4].astype(float) #3rd\n",
    "swir_band = img[:, :,6].astype(float) #6th\n",
    "\n",
    "\n",
    "# Compute NDVI, handling division by zero\n",
    "denominator = nir_band + red_band\n",
    "ndvi_data = np.zeros_like(denominator)\n",
    "mask = denominator != 0\n",
    "ndvi_data[mask] = (nir_band[mask] - red_band[mask]) / denominator[mask]\n",
    "ndvi_data = np.nan_to_num(ndvi_data)\n",
    "\n",
    "# Compute NDWI, handling division by zero\n",
    "denominator = nir_band + swir_band\n",
    "ndwi_data = np.zeros_like(denominator)\n",
    "mask = denominator != 0\n",
    "ndwi_data[mask] = (nir_band[mask] - swir_band[mask]) / denominator[mask]\n",
    "ndwi_data = np.nan_to_num(ndwi_data)\n",
    "\n",
    "# Compute NDBI, handling division by zero\n",
    "denominator = swir_band + nir_band\n",
    "ndbi_data = np.zeros_like(denominator)\n",
    "mask = denominator != 0\n",
    "ndbi_data[mask] = (swir_band[mask] - nir_band[mask]) / denominator[mask]\n",
    "ndbi_data = np.nan_to_num(ndbi_data)\n",
    "\n",
    "\n"
   ]
  },
  {
   "cell_type": "code",
   "execution_count": 3,
   "id": "329a148e",
   "metadata": {},
   "outputs": [
    {
     "name": "stdout",
     "output_type": "stream",
     "text": [
      "0\n",
      "0\n",
      "0\n"
     ]
    }
   ],
   "source": [
    "print(np.isnan(ndvi_data).sum())\n",
    "print(np.isnan(ndwi_data).sum())\n",
    "print(np.isnan(ndbi_data).sum())"
   ]
  },
  {
   "cell_type": "code",
   "execution_count": 4,
   "id": "f137b38b",
   "metadata": {},
   "outputs": [
    {
     "name": "stdout",
     "output_type": "stream",
     "text": [
      "Number of non-zero values in NDVI: 1\n",
      "Number of non-zero values in NDWI: 28071\n",
      "Number of non-zero values in NDBI: 417\n"
     ]
    }
   ],
   "source": [
    "import numpy as np\n",
    "ndvi_count = np.count_nonzero(ndbi_data>0)\n",
    "ndwi_count = np.count_nonzero(ndwi_data>0)\n",
    "ndbi_count = np.count_nonzero(ndvi_data>0)\n",
    "print('Number of non-zero values in NDVI:', ndvi_count)\n",
    "print('Number of non-zero values in NDWI:', ndwi_count)\n",
    "print('Number of non-zero values in NDBI:', ndbi_count)"
   ]
  },
  {
   "cell_type": "code",
   "execution_count": 5,
   "id": "0fe075cf",
   "metadata": {},
   "outputs": [],
   "source": [
    "import numpy as np\n",
    "import pandas as pd\n",
    "\n",
    "# Assuming ndvi_data, ndwi_data, and ndbi_data are the 2D arrays you want to save\n",
    "ndvi_data_float = ndvi_data.astype(float)\n",
    "ndwi_data_float = ndwi_data.astype(float)\n",
    "ndbi_data_float = ndbi_data.astype(float)"
   ]
  },
  {
   "cell_type": "code",
   "execution_count": 7,
   "id": "d5755d63",
   "metadata": {},
   "outputs": [],
   "source": [
    "# Create DataFrames and save to CSV\n",
    "df_ndvi = pd.DataFrame({'ndvi': ndvi_data_float.ravel()})\n",
    "df_ndvi = df_ndvi[df_ndvi['ndvi'] > 0]\n",
    "df_ndvi.to_csv('ndvi_data.csv', index=False)\n"
   ]
  },
  {
   "cell_type": "code",
   "execution_count": 8,
   "id": "b3b4e6b2",
   "metadata": {},
   "outputs": [],
   "source": [
    "df_ndwi = pd.DataFrame({'ndwi': ndwi_data_float.ravel()})\n",
    "df_ndwi = df_ndwi[df_ndwi['ndwi'] > 0]\n",
    "df_ndwi.to_csv('ndwi_data.csv', index=False)"
   ]
  },
  {
   "cell_type": "code",
   "execution_count": 9,
   "id": "b2ac7f39",
   "metadata": {},
   "outputs": [],
   "source": [
    "df_ndbi = pd.DataFrame({'ndbi': ndbi_data_float.ravel()})\n",
    "df_ndbi = df_ndbi[df_ndbi['ndbi'] > 0]\n",
    "df_ndbi.to_csv('ndbi_data.csv', index=False)"
   ]
  },
  {
   "cell_type": "code",
   "execution_count": 18,
   "id": "c4e8145d",
   "metadata": {},
   "outputs": [
    {
     "data": {
      "image/png": "[encoded data removed]",
      "text/plain": [
       "<Figure size 432x288 with 1 Axes>"
      ]
     },
     "metadata": {
      "needs_background": "light"
     },
     "output_type": "display_data"
    }
   ],
   "source": [
    "import pandas as pd\n",
    "import matplotlib.pyplot as plt\n",
    "\n",
    "# Load the CSV file into a pandas DataFrame\n",
    "df1 = pd.read_csv('ndwi_data.csv')\n",
    "\n",
    "# Extract the NDWI values from the DataFrame\n",
    "ndwi_values = df1['ndwi']\n",
    "\n",
    "# Create a histogram of the NDWI values\n",
    "plt.hist(ndwi_values, bins=50)\n",
    "\n",
    "# Set the x-axis label and title\n",
    "plt.xlabel('NDWI Values')\n",
    "plt.ylabel('Frequency')\n",
    "plt.title('Histogram of NDWI Data for 2022')\n",
    "\n",
    "# Display the plot\n",
    "plt.show()\n",
    "\n",
    "\n"
   ]
  },
  {
   "cell_type": "code",
   "execution_count": 24,
   "id": "9bc2d4a1",
   "metadata": {},
   "outputs": [
    {
     "data": {
      "text/html": [
       "<div>\n",
       "<style scoped>\n",
       "    .dataframe tbody tr th:only-of-type {\n",
       "        vertical-align: middle;\n",
       "    }\n",
       "\n",
       "    .dataframe tbody tr th {\n",
       "        vertical-align: top;\n",
       "    }\n",
       "\n",
       "    .dataframe thead th {\n",
       "        text-align: right;\n",
       "    }\n",
       "</style>\n",
       "<table border=\"1\" class=\"dataframe\">\n",
       "  <thead>\n",
       "    <tr style=\"text-align: right;\">\n",
       "      <th></th>\n",
       "      <th>ndwi</th>\n",
       "    </tr>\n",
       "  </thead>\n",
       "  <tbody>\n",
       "    <tr>\n",
       "      <th>count</th>\n",
       "      <td>28071.000000</td>\n",
       "    </tr>\n",
       "    <tr>\n",
       "      <th>mean</th>\n",
       "      <td>0.098354</td>\n",
       "    </tr>\n",
       "    <tr>\n",
       "      <th>std</th>\n",
       "      <td>0.020284</td>\n",
       "    </tr>\n",
       "    <tr>\n",
       "      <th>min</th>\n",
       "      <td>0.000609</td>\n",
       "    </tr>\n",
       "    <tr>\n",
       "      <th>25%</th>\n",
       "      <td>0.091780</td>\n",
       "    </tr>\n",
       "    <tr>\n",
       "      <th>50%</th>\n",
       "      <td>0.102764</td>\n",
       "    </tr>\n",
       "    <tr>\n",
       "      <th>75%</th>\n",
       "      <td>0.110342</td>\n",
       "    </tr>\n",
       "    <tr>\n",
       "      <th>max</th>\n",
       "      <td>0.153069</td>\n",
       "    </tr>\n",
       "  </tbody>\n",
       "</table>\n",
       "</div>"
      ],
      "text/plain": [
       "               ndwi\n",
       "count  28071.000000\n",
       "mean       0.098354\n",
       "std        0.020284\n",
       "min        0.000609\n",
       "25%        0.091780\n",
       "50%        0.102764\n",
       "75%        0.110342\n",
       "max        0.153069"
      ]
     },
     "execution_count": 24,
     "metadata": {},
     "output_type": "execute_result"
    }
   ],
   "source": [
    "df1.describe()"
   ]
  },
  {
   "cell_type": "code",
   "execution_count": 27,
   "id": "7afa4762",
   "metadata": {},
   "outputs": [
    {
     "data": {
      "image/png": "[encoded data removed]",
      "text/plain": [
       "<Figure size 432x288 with 1 Axes>"
      ]
     },
     "metadata": {
      "needs_background": "light"
     },
     "output_type": "display_data"
    }
   ],
   "source": [
    "# Extract the NDBI values and plot them against the index values\n",
    "plt.plot(df1['ndwi'])\n",
    "\n",
    "# Set the x-axis label and title\n",
    "plt.xlabel('Index')\n",
    "plt.title('NDWI Data for 2022')\n",
    "\n",
    "# Display the plot\n",
    "plt.show()"
   ]
  },
  {
   "cell_type": "code",
   "execution_count": null,
   "id": "e770ed5b",
   "metadata": {},
   "outputs": [],
   "source": []
  },
  {
   "cell_type": "code",
   "execution_count": 37,
   "id": "a9f84fd9",
   "metadata": {},
   "outputs": [
    {
     "data": {
      "image/png": "[encoded data removed]",
      "text/plain": [
       "<Figure size 432x288 with 1 Axes>"
      ]
     },
     "metadata": {
      "needs_background": "light"
     },
     "output_type": "display_data"
    }
   ],
   "source": [
    "import pandas as pd\n",
    "import matplotlib.pyplot as plt\n",
    "\n",
    "# Load the CSV file into a pandas DataFrame\n",
    "df2 = pd.read_csv('ndbi_data.csv')\n",
    "\n",
    "# Extract the NDBI values from the DataFrame\n",
    "ndwi_values = df2['ndbi']\n",
    "\n",
    "# Create a histogram of the NDBI values\n",
    "plt.hist(ndwi_values, bins=50)\n",
    "\n",
    "# Set the x-axis label and title\n",
    "plt.xlabel('NDBI Values')\n",
    "plt.ylabel('Frequency')\n",
    "plt.title('Histogram of NDBI Data for 2022')\n",
    "\n",
    "# Display the plot\n",
    "plt.show()\n"
   ]
  },
  {
   "cell_type": "code",
   "execution_count": 29,
   "id": "77260c09",
   "metadata": {},
   "outputs": [
    {
     "data": {
      "image/png": "[encoded data removed]",
      "text/plain": [
       "<Figure size 432x288 with 1 Axes>"
      ]
     },
     "metadata": {
      "needs_background": "light"
     },
     "output_type": "display_data"
    }
   ],
   "source": [
    "# Extract the NDBI values and plot them against the index values\n",
    "plt.plot(df2['ndbi'])\n",
    "\n",
    "# Set the x-axis label and title\n",
    "plt.xlabel('Index')\n",
    "plt.title('NDBI Data for 2022')\n",
    "\n",
    "# Display the plot\n",
    "plt.show()"
   ]
  },
  {
   "cell_type": "code",
   "execution_count": null,
   "id": "3ef1fd80",
   "metadata": {},
   "outputs": [],
   "source": []
  },
  {
   "cell_type": "code",
   "execution_count": 40,
   "id": "cf2bb0f8",
   "metadata": {},
   "outputs": [
    {
     "data": {
      "text/html": [
       "<div>\n",
       "<style scoped>\n",
       "    .dataframe tbody tr th:only-of-type {\n",
       "        vertical-align: middle;\n",
       "    }\n",
       "\n",
       "    .dataframe tbody tr th {\n",
       "        vertical-align: top;\n",
       "    }\n",
       "\n",
       "    .dataframe thead th {\n",
       "        text-align: right;\n",
       "    }\n",
       "</style>\n",
       "<table border=\"1\" class=\"dataframe\">\n",
       "  <thead>\n",
       "    <tr style=\"text-align: right;\">\n",
       "      <th></th>\n",
       "      <th>ndbi</th>\n",
       "    </tr>\n",
       "  </thead>\n",
       "  <tbody>\n",
       "    <tr>\n",
       "      <th>count</th>\n",
       "      <td>1.00000</td>\n",
       "    </tr>\n",
       "    <tr>\n",
       "      <th>mean</th>\n",
       "      <td>0.00036</td>\n",
       "    </tr>\n",
       "    <tr>\n",
       "      <th>std</th>\n",
       "      <td>NaN</td>\n",
       "    </tr>\n",
       "    <tr>\n",
       "      <th>min</th>\n",
       "      <td>0.00036</td>\n",
       "    </tr>\n",
       "    <tr>\n",
       "      <th>25%</th>\n",
       "      <td>0.00036</td>\n",
       "    </tr>\n",
       "    <tr>\n",
       "      <th>50%</th>\n",
       "      <td>0.00036</td>\n",
       "    </tr>\n",
       "    <tr>\n",
       "      <th>75%</th>\n",
       "      <td>0.00036</td>\n",
       "    </tr>\n",
       "    <tr>\n",
       "      <th>max</th>\n",
       "      <td>0.00036</td>\n",
       "    </tr>\n",
       "  </tbody>\n",
       "</table>\n",
       "</div>"
      ],
      "text/plain": [
       "          ndbi\n",
       "count  1.00000\n",
       "mean   0.00036\n",
       "std        NaN\n",
       "min    0.00036\n",
       "25%    0.00036\n",
       "50%    0.00036\n",
       "75%    0.00036\n",
       "max    0.00036"
      ]
     },
     "execution_count": 40,
     "metadata": {},
     "output_type": "execute_result"
    }
   ],
   "source": [
    "df2.describe()"
   ]
  },
  {
   "cell_type": "code",
   "execution_count": 38,
   "id": "b6ebca75",
   "metadata": {},
   "outputs": [],
   "source": [
    "\n",
    "import pandas as pd\n",
    "import matplotlib.pyplot as plt\n",
    "\n",
    "# Read the CSV file into a pandas dataframe\n",
    "df = pd.read_csv('ndwi_data.csv')\n"
   ]
  },
  {
   "cell_type": "code",
   "execution_count": 39,
   "id": "f714d9a7",
   "metadata": {},
   "outputs": [
    {
     "data": {
      "image/png": "[encoded data removed]",
      "text/plain": [
       "<Figure size 432x288 with 1 Axes>"
      ]
     },
     "metadata": {
      "needs_background": "light"
     },
     "output_type": "display_data"
    }
   ],
   "source": [
    "# Extract the NDBI values and plot them against the index values\n",
    "plt.plot(df3['ndwi'])\n",
    "\n",
    "# Set the x-axis label and title\n",
    "plt.xlabel('Index')\n",
    "plt.title('NDWI Data for 2022')\n",
    "\n",
    "# Display the plot\n",
    "plt.show()"
   ]
  },
  {
   "cell_type": "code",
   "execution_count": 41,
   "id": "349b8d34",
   "metadata": {},
   "outputs": [
    {
     "data": {
      "text/html": [
       "<div>\n",
       "<style scoped>\n",
       "    .dataframe tbody tr th:only-of-type {\n",
       "        vertical-align: middle;\n",
       "    }\n",
       "\n",
       "    .dataframe tbody tr th {\n",
       "        vertical-align: top;\n",
       "    }\n",
       "\n",
       "    .dataframe thead th {\n",
       "        text-align: right;\n",
       "    }\n",
       "</style>\n",
       "<table border=\"1\" class=\"dataframe\">\n",
       "  <thead>\n",
       "    <tr style=\"text-align: right;\">\n",
       "      <th></th>\n",
       "      <th>ndwi</th>\n",
       "    </tr>\n",
       "  </thead>\n",
       "  <tbody>\n",
       "    <tr>\n",
       "      <th>count</th>\n",
       "      <td>28071.000000</td>\n",
       "    </tr>\n",
       "    <tr>\n",
       "      <th>mean</th>\n",
       "      <td>0.098354</td>\n",
       "    </tr>\n",
       "    <tr>\n",
       "      <th>std</th>\n",
       "      <td>0.020284</td>\n",
       "    </tr>\n",
       "    <tr>\n",
       "      <th>min</th>\n",
       "      <td>0.000609</td>\n",
       "    </tr>\n",
       "    <tr>\n",
       "      <th>25%</th>\n",
       "      <td>0.091780</td>\n",
       "    </tr>\n",
       "    <tr>\n",
       "      <th>50%</th>\n",
       "      <td>0.102764</td>\n",
       "    </tr>\n",
       "    <tr>\n",
       "      <th>75%</th>\n",
       "      <td>0.110342</td>\n",
       "    </tr>\n",
       "    <tr>\n",
       "      <th>max</th>\n",
       "      <td>0.153069</td>\n",
       "    </tr>\n",
       "  </tbody>\n",
       "</table>\n",
       "</div>"
      ],
      "text/plain": [
       "               ndwi\n",
       "count  28071.000000\n",
       "mean       0.098354\n",
       "std        0.020284\n",
       "min        0.000609\n",
       "25%        0.091780\n",
       "50%        0.102764\n",
       "75%        0.110342\n",
       "max        0.153069"
      ]
     },
     "execution_count": 41,
     "metadata": {},
     "output_type": "execute_result"
    }
   ],
   "source": [
    "df3.describe()"
   ]
  },
  {
   "cell_type": "code",
   "execution_count": 33,
   "id": "a1bd98b6",
   "metadata": {},
   "outputs": [],
   "source": [
    "\n",
    "import pandas as pd\n",
    "import matplotlib.pyplot as plt\n",
    "\n",
    "# Read the CSV file into a pandas dataframe\n",
    "df4 = pd.read_csv('ndvi_data.csv')\n"
   ]
  },
  {
   "cell_type": "code",
   "execution_count": 36,
   "id": "8f8f9cf5",
   "metadata": {},
   "outputs": [
    {
     "data": {
      "image/png": "[encoded data removed]",
      "text/plain": [
       "<Figure size 432x288 with 1 Axes>"
      ]
     },
     "metadata": {
      "needs_background": "light"
     },
     "output_type": "display_data"
    }
   ],
   "source": [
    "# Extract the NDBI values and plot them against the index values\n",
    "plt.plot(df4['ndvi'])\n",
    "\n",
    "# Set the x-axis label and title\n",
    "plt.xlabel('Index')\n",
    "plt.title('NDVI Data for 2022')\n",
    "\n",
    "# Display the plot\n",
    "plt.show()"
   ]
  },
  {
   "cell_type": "code",
   "execution_count": 35,
   "id": "6dab162e",
   "metadata": {},
   "outputs": [
    {
     "data": {
      "text/html": [
       "<div>\n",
       "<style scoped>\n",
       "    .dataframe tbody tr th:only-of-type {\n",
       "        vertical-align: middle;\n",
       "    }\n",
       "\n",
       "    .dataframe tbody tr th {\n",
       "        vertical-align: top;\n",
       "    }\n",
       "\n",
       "    .dataframe thead th {\n",
       "        text-align: right;\n",
       "    }\n",
       "</style>\n",
       "<table border=\"1\" class=\"dataframe\">\n",
       "  <thead>\n",
       "    <tr style=\"text-align: right;\">\n",
       "      <th></th>\n",
       "      <th>ndvi</th>\n",
       "    </tr>\n",
       "  </thead>\n",
       "  <tbody>\n",
       "    <tr>\n",
       "      <th>count</th>\n",
       "      <td>417.000000</td>\n",
       "    </tr>\n",
       "    <tr>\n",
       "      <th>mean</th>\n",
       "      <td>0.022487</td>\n",
       "    </tr>\n",
       "    <tr>\n",
       "      <th>std</th>\n",
       "      <td>0.024444</td>\n",
       "    </tr>\n",
       "    <tr>\n",
       "      <th>min</th>\n",
       "      <td>0.000093</td>\n",
       "    </tr>\n",
       "    <tr>\n",
       "      <th>25%</th>\n",
       "      <td>0.004815</td>\n",
       "    </tr>\n",
       "    <tr>\n",
       "      <th>50%</th>\n",
       "      <td>0.012526</td>\n",
       "    </tr>\n",
       "    <tr>\n",
       "      <th>75%</th>\n",
       "      <td>0.030462</td>\n",
       "    </tr>\n",
       "    <tr>\n",
       "      <th>max</th>\n",
       "      <td>0.096217</td>\n",
       "    </tr>\n",
       "  </tbody>\n",
       "</table>\n",
       "</div>"
      ],
      "text/plain": [
       "             ndvi\n",
       "count  417.000000\n",
       "mean     0.022487\n",
       "std      0.024444\n",
       "min      0.000093\n",
       "25%      0.004815\n",
       "50%      0.012526\n",
       "75%      0.030462\n",
       "max      0.096217"
      ]
     },
     "execution_count": 35,
     "metadata": {},
     "output_type": "execute_result"
    }
   ],
   "source": [
    "df4.describe()"
   ]
  },
  {
   "cell_type": "code",
   "execution_count": 42,
   "id": "c3ec7d20",
   "metadata": {},
   "outputs": [
    {
     "data": {
      "image/png": "[encoded data removed]",
      "text/plain": [
       "<Figure size 432x288 with 1 Axes>"
      ]
     },
     "metadata": {
      "needs_background": "light"
     },
     "output_type": "display_data"
    }
   ],
   "source": [
    "# Extract the NDBI values from the DataFrame\n",
    "ndwi_values = df4['ndvi']\n",
    "\n",
    "# Create a histogram of the NDBI values\n",
    "plt.hist(ndwi_values, bins=50)\n",
    "\n",
    "# Set the x-axis label and title\n",
    "plt.xlabel('NDVI Values')\n",
    "plt.ylabel('Frequency')\n",
    "plt.title('Histogram of NDVI Data for 2022')\n",
    "\n",
    "# Display the plot\n",
    "plt.show()\n"
   ]
  },
  {
   "cell_type": "code",
   "execution_count": null,
   "id": "e3e8bddf",
   "metadata": {},
   "outputs": [],
   "source": []
  }
 ],
 "metadata": {
  "kernelspec": {
   "display_name": "Python 3 (ipykernel)",
   "language": "python",
   "name": "python3"
  },
  "language_info": {
   "codemirror_mode": {
    "name": "ipython",
    "version": 3
   },
   "file_extension": ".py",
   "mimetype": "text/x-python",
   "name": "python",
   "nbconvert_exporter": "python",
   "pygments_lexer": "ipython3",
   "version": "3.9.12"
  }
 },
 "nbformat": 4,
 "nbformat_minor": 5
}
